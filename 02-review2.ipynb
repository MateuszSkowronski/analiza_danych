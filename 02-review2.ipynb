{
 "cells": [
  {
   "cell_type": "markdown",
   "id": "df1d774f",
   "metadata": {
    "slideshow": {
     "slide_type": "slide"
    }
   },
   "source": [
    "# 02 - Python - praca z danymi"
   ]
  },
  {
   "cell_type": "markdown",
   "id": "85036752",
   "metadata": {
    "slideshow": {
     "slide_type": "slide"
    }
   },
   "source": [
    "## Cele tego rozdziału\n",
    "\n",
    "Ten wykład będzie przeglądem narzędzi przydatnych do **pracy z danymi** w Pythonie. \n",
    "\n",
    "- Główny nacisk: **dane tabelaryczne** w plikach `.csv`.\n",
    "- Wprowadzenie do `pandas`.  \n",
    "- Podstawowa manipulacja i analiza przy użyciu `pandas`."
   ]
  },
  {
   "cell_type": "markdown",
   "id": "f0a2657a",
   "metadata": {
    "slideshow": {
     "slide_type": "slide"
    }
   },
   "source": [
    "## Czym jest plik?\n",
    "\n",
    "> **Plik** jest zbiorem *bajtów* używanym do przechowywania pewnego rodzaju danych.\n",
    "\n",
    "**Format** tych danych zależy od tego, do czego ich używasz, ale na pewnym poziomie są one tłumaczone na *binarne bity* (`1` i `0`). \n",
    "\n",
    "Format pliku jest zwykle określony w **rozszerzeniu pliku**.  \n",
    "\n",
    "- `.csv`: wartości oddzielone przecinkami.  \n",
    "- `.txt`: zwykły plik tekstowy.  \n",
    "- `.py`: wykonywalny plik Pythona.  \n",
    "- `.png`: przenośny sieciowy plik graficzny (tj. obraz)."
   ]
  },
  {
   "cell_type": "markdown",
   "id": "ba8f1775",
   "metadata": {
    "slideshow": {
     "slide_type": "slide"
    }
   },
   "source": [
    "## Czym są dane tabelaryczne?\n",
    "\n",
    "> [Dane tabelaryczne](https://www.statology.org/tabular-data/) to dane zorganizowane w **tabeli** z *wierszami* i *kolumnami*.\n",
    "\n",
    "- Ten rodzaj danych jest **dwuwymiarowy**.  \n",
    "- Zazwyczaj każdy **wiersz** reprezentuje „obserwację”.\n",
    "- Zazwyczaj każda **kolumna** reprezentuje *atrybut*.  \n",
    "\n",
    "Często przechowywane w plikach `.csv`.\n",
    "\n",
    "- `.csv` = „wartości oddzielone przecinkami”"
   ]
  },
  {
   "cell_type": "markdown",
   "id": "ceed91a9",
   "metadata": {
    "slideshow": {
     "slide_type": "slide"
    }
   },
   "source": [
    "### Przykład: Kraje\n",
    "\n",
    "**Pytanie**: Co reprezentuje każdy *wiersz*? A co każda *kolumna*?\n",
    "\n",
    "| Kraj | Ludność (mln) | PKB (bUSD) |\n",
    "| ------- | ---------- | --- | \n",
    "| USA | 329.5 | 20.94 |\n",
    "| WIELKA BRYTANIA | 76.22 | 2.7 |\n",
    "| CHINY | 1402 | 14.72 |"
   ]
  },
  {
   "cell_type": "markdown",
   "id": "d5db0b91",
   "metadata": {
    "slideshow": {
     "slide_type": "slide"
    }
   },
   "source": [
    "## Pakiet `pandas`\n",
    "\n",
    "> [**`pandas`**](https://pandas.pydata.org/) to pakiet, który umożliwia **płynne** i **wydajne** przechowywanie, manipulowanie i analizowanie danych."
   ]
  },
  {
   "cell_type": "code",
   "execution_count": 2,
   "id": "656c1f9d",
   "metadata": {
    "slideshow": {
     "slide_type": "-"
    }
   },
   "outputs": [],
   "source": [
    "## Instrukcja importu: pandas jest „pakietem”\n",
    "import pandas as pd"
   ]
  },
  {
   "cell_type": "markdown",
   "id": "2a8db8c2",
   "metadata": {
    "slideshow": {
     "slide_type": "slide"
    }
   },
   "source": [
    "### `pandas.read_csv`\n",
    "\n",
    "Dane tabelaryczne są często przechowywane w plikach `.csv`. \n",
    "\n",
    "- `pandas.read_csv` może być użyty do **wczytania** pliku `.csv`.  \n",
    "- Jest on reprezentowany jako `pandas.DataFrame`.\n",
    "\n",
    "```python\n",
    "pd.read_csv(„path/to/file.csv”) ### zastąp rzeczywistą ścieżką pliku!\n",
    "```"
   ]
  },
  {
   "cell_type": "code",
   "execution_count": 3,
   "id": "86ab7064",
   "metadata": {
    "slideshow": {
     "slide_type": "-"
    }
   },
   "outputs": [
    {
     "data": {
      "text/html": [
       "<div>\n",
       "<style scoped>\n",
       "    .dataframe tbody tr th:only-of-type {\n",
       "        vertical-align: middle;\n",
       "    }\n",
       "\n",
       "    .dataframe tbody tr th {\n",
       "        vertical-align: top;\n",
       "    }\n",
       "\n",
       "    .dataframe thead th {\n",
       "        text-align: right;\n",
       "    }\n",
       "</style>\n",
       "<table border=\"1\" class=\"dataframe\">\n",
       "  <thead>\n",
       "    <tr style=\"text-align: right;\">\n",
       "      <th></th>\n",
       "      <th>#</th>\n",
       "      <th>Name</th>\n",
       "      <th>Type 1</th>\n",
       "      <th>Type 2</th>\n",
       "      <th>Total</th>\n",
       "      <th>HP</th>\n",
       "      <th>Attack</th>\n",
       "      <th>Defense</th>\n",
       "      <th>Sp. Atk</th>\n",
       "      <th>Sp. Def</th>\n",
       "      <th>Speed</th>\n",
       "      <th>Generation</th>\n",
       "      <th>Legendary</th>\n",
       "    </tr>\n",
       "  </thead>\n",
       "  <tbody>\n",
       "    <tr>\n",
       "      <th>0</th>\n",
       "      <td>1</td>\n",
       "      <td>Bulbasaur</td>\n",
       "      <td>Grass</td>\n",
       "      <td>Poison</td>\n",
       "      <td>318</td>\n",
       "      <td>45</td>\n",
       "      <td>49</td>\n",
       "      <td>49</td>\n",
       "      <td>65</td>\n",
       "      <td>65</td>\n",
       "      <td>45</td>\n",
       "      <td>1</td>\n",
       "      <td>False</td>\n",
       "    </tr>\n",
       "    <tr>\n",
       "      <th>1</th>\n",
       "      <td>2</td>\n",
       "      <td>Ivysaur</td>\n",
       "      <td>Grass</td>\n",
       "      <td>Poison</td>\n",
       "      <td>405</td>\n",
       "      <td>60</td>\n",
       "      <td>62</td>\n",
       "      <td>63</td>\n",
       "      <td>80</td>\n",
       "      <td>80</td>\n",
       "      <td>60</td>\n",
       "      <td>1</td>\n",
       "      <td>False</td>\n",
       "    </tr>\n",
       "    <tr>\n",
       "      <th>2</th>\n",
       "      <td>3</td>\n",
       "      <td>Venusaur</td>\n",
       "      <td>Grass</td>\n",
       "      <td>Poison</td>\n",
       "      <td>525</td>\n",
       "      <td>80</td>\n",
       "      <td>82</td>\n",
       "      <td>83</td>\n",
       "      <td>100</td>\n",
       "      <td>100</td>\n",
       "      <td>80</td>\n",
       "      <td>1</td>\n",
       "      <td>False</td>\n",
       "    </tr>\n",
       "    <tr>\n",
       "      <th>3</th>\n",
       "      <td>3</td>\n",
       "      <td>VenusaurMega Venusaur</td>\n",
       "      <td>Grass</td>\n",
       "      <td>Poison</td>\n",
       "      <td>625</td>\n",
       "      <td>80</td>\n",
       "      <td>100</td>\n",
       "      <td>123</td>\n",
       "      <td>122</td>\n",
       "      <td>120</td>\n",
       "      <td>80</td>\n",
       "      <td>1</td>\n",
       "      <td>False</td>\n",
       "    </tr>\n",
       "    <tr>\n",
       "      <th>4</th>\n",
       "      <td>4</td>\n",
       "      <td>Charmander</td>\n",
       "      <td>Fire</td>\n",
       "      <td>NaN</td>\n",
       "      <td>309</td>\n",
       "      <td>39</td>\n",
       "      <td>52</td>\n",
       "      <td>43</td>\n",
       "      <td>60</td>\n",
       "      <td>50</td>\n",
       "      <td>65</td>\n",
       "      <td>1</td>\n",
       "      <td>False</td>\n",
       "    </tr>\n",
       "  </tbody>\n",
       "</table>\n",
       "</div>"
      ],
      "text/plain": [
       "   #                   Name Type 1  Type 2  Total  HP  Attack  Defense  \\\n",
       "0  1              Bulbasaur  Grass  Poison    318  45      49       49   \n",
       "1  2                Ivysaur  Grass  Poison    405  60      62       63   \n",
       "2  3               Venusaur  Grass  Poison    525  80      82       83   \n",
       "3  3  VenusaurMega Venusaur  Grass  Poison    625  80     100      123   \n",
       "4  4             Charmander   Fire     NaN    309  39      52       43   \n",
       "\n",
       "   Sp. Atk  Sp. Def  Speed  Generation  Legendary  \n",
       "0       65       65     45           1      False  \n",
       "1       80       80     60           1      False  \n",
       "2      100      100     80           1      False  \n",
       "3      122      120     80           1      False  \n",
       "4       60       50     65           1      False  "
      ]
     },
     "execution_count": 3,
     "metadata": {},
     "output_type": "execute_result"
    }
   ],
   "source": [
    "### Plik .csv z danymi o różnych Pokemonach\n",
    "df_pokemon = pd.read_csv(\"data/pokemon.csv\")\n",
    "df_pokemon.head(5)"
   ]
  },
  {
   "cell_type": "markdown",
   "id": "5972db39",
   "metadata": {
    "slideshow": {
     "slide_type": "slide"
    }
   },
   "source": [
    "### `read_csv` z adresem URL\n",
    "\n",
    "Do funkcji `read_csv` można również przekazać adres URL wskazujący na plik `.csv`. \n",
    "\n",
    "- Jest to zbiór danych z [*Brand et al. (2019)*](https://www.cambridge.org/core/journals/evolutionary-human-sciences/article/cultural-evolution-of-emotional-expression-in-50-years-of-song-lyrics/E6E64C02BDB0480DB13B8B6BB7DFF598), w którym określono ilościowo zmiany w pozytywności i negatywności tekstów piosenek w czasie.\n",
    "- Wkrótce będziemy pracować więcej z tym zbiorem danych!"
   ]
  },
  {
   "cell_type": "code",
   "execution_count": 4,
   "id": "34bbc4d5",
   "metadata": {
    "slideshow": {
     "slide_type": "-"
    }
   },
   "outputs": [
    {
     "name": "stdout",
     "output_type": "stream",
     "text": [
      "                          artist               artist_processed  rank  \\\n",
      "0  sam the sham and the pharaohs  sam the sham and the pharaohs     1   \n",
      "1                      four tops                      four tops     2   \n",
      "2             the rolling stones             the rolling stones     3   \n",
      "3                        we five                        we five     4   \n",
      "4         the righteous brothers         the righteous brothers     5   \n",
      "\n",
      "                                       song  year  ID_index  negative  \\\n",
      "0                               wooly bully  1965         1       0.0   \n",
      "1  i cant help myself sugar pie honey bunch  1965         2       3.0   \n",
      "2                i cant get no satisfaction  1965         3       NaN   \n",
      "3                       you were on my mind  1965         4      10.0   \n",
      "4              youve lost that lovin feelin  1965         5       6.0   \n",
      "\n",
      "   positive      n  \n",
      "0       0.0   73.0  \n",
      "1       8.0  192.0  \n",
      "2       NaN    NaN  \n",
      "3       2.0  138.0  \n",
      "4      31.0  225.0  \n"
     ]
    }
   ],
   "source": [
    "import ssl\n",
    "import warnings\n",
    "warnings.filterwarnings('ignore')\n",
    "ssl._create_default_https_context = ssl._create_unverified_context\n",
    "import requests\n",
    "from io import StringIO\n",
    "\n",
    "url = \"https://raw.githubusercontent.com/kflisikowsky/sad/refs/heads/main/data/billboard_analysis.csv\"\n",
    "response = requests.get(url, verify=False)\n",
    "df_lyrics = StringIO(response.text)\n",
    "df_lyrics = pd.read_csv(df_lyrics, sep=\",\")\n",
    "print(df_lyrics.head())"
   ]
  },
  {
   "cell_type": "code",
   "execution_count": 5,
   "id": "5aaa5160",
   "metadata": {
    "slideshow": {
     "slide_type": "-"
    }
   },
   "outputs": [
    {
     "data": {
      "text/html": [
       "<div>\n",
       "<style scoped>\n",
       "    .dataframe tbody tr th:only-of-type {\n",
       "        vertical-align: middle;\n",
       "    }\n",
       "\n",
       "    .dataframe tbody tr th {\n",
       "        vertical-align: top;\n",
       "    }\n",
       "\n",
       "    .dataframe thead th {\n",
       "        text-align: right;\n",
       "    }\n",
       "</style>\n",
       "<table border=\"1\" class=\"dataframe\">\n",
       "  <thead>\n",
       "    <tr style=\"text-align: right;\">\n",
       "      <th></th>\n",
       "      <th>artist</th>\n",
       "      <th>artist_processed</th>\n",
       "      <th>rank</th>\n",
       "      <th>song</th>\n",
       "      <th>year</th>\n",
       "      <th>ID_index</th>\n",
       "      <th>negative</th>\n",
       "      <th>positive</th>\n",
       "      <th>n</th>\n",
       "    </tr>\n",
       "  </thead>\n",
       "  <tbody>\n",
       "    <tr>\n",
       "      <th>0</th>\n",
       "      <td>sam the sham and the pharaohs</td>\n",
       "      <td>sam the sham and the pharaohs</td>\n",
       "      <td>1</td>\n",
       "      <td>wooly bully</td>\n",
       "      <td>1965</td>\n",
       "      <td>1</td>\n",
       "      <td>0.0</td>\n",
       "      <td>0.0</td>\n",
       "      <td>73.0</td>\n",
       "    </tr>\n",
       "    <tr>\n",
       "      <th>1</th>\n",
       "      <td>four tops</td>\n",
       "      <td>four tops</td>\n",
       "      <td>2</td>\n",
       "      <td>i cant help myself sugar pie honey bunch</td>\n",
       "      <td>1965</td>\n",
       "      <td>2</td>\n",
       "      <td>3.0</td>\n",
       "      <td>8.0</td>\n",
       "      <td>192.0</td>\n",
       "    </tr>\n",
       "  </tbody>\n",
       "</table>\n",
       "</div>"
      ],
      "text/plain": [
       "                          artist               artist_processed  rank  \\\n",
       "0  sam the sham and the pharaohs  sam the sham and the pharaohs     1   \n",
       "1                      four tops                      four tops     2   \n",
       "\n",
       "                                       song  year  ID_index  negative  \\\n",
       "0                               wooly bully  1965         1       0.0   \n",
       "1  i cant help myself sugar pie honey bunch  1965         2       3.0   \n",
       "\n",
       "   positive      n  \n",
       "0       0.0   73.0  \n",
       "1       8.0  192.0  "
      ]
     },
     "execution_count": 5,
     "metadata": {},
     "output_type": "execute_result"
    }
   ],
   "source": [
    "df_lyrics.head(2)"
   ]
  },
  {
   "cell_type": "markdown",
   "id": "876d84b2",
   "metadata": {
    "slideshow": {
     "slide_type": "slide"
    }
   },
   "source": [
    "### Używanie `DataFrame`\n",
    "\n",
    "- Teraz, gdy mamy obiekt `DataFrame`, chcemy być w stanie *używać* tego `DataFrame`.\n",
    "- Obejmuje to:\n",
    "   - Uzyskanie podstawowych informacji o `DataFrame` (np. jego *kształt*).\n",
    "   - Dostęp do określonych *kolumn*.  \n",
    "   - Dostęp do określonych *wierszy*.  "
   ]
  },
  {
   "cell_type": "markdown",
   "id": "73d20571",
   "metadata": {
    "slideshow": {
     "slide_type": "slide"
    }
   },
   "source": [
    "#### Używanie `shape`\n",
    "\n",
    "`df.shape` mówi nam ile **wierszy** i **kolumn** znajduje się w `DataFrame`."
   ]
  },
  {
   "cell_type": "code",
   "execution_count": 6,
   "id": "0d233f82",
   "metadata": {
    "slideshow": {
     "slide_type": "-"
    }
   },
   "outputs": [
    {
     "data": {
      "text/plain": [
       "(800, 13)"
      ]
     },
     "execution_count": 6,
     "metadata": {},
     "output_type": "execute_result"
    }
   ],
   "source": [
    "## (#wiersze, #kolumny)\n",
    "df_pokemon.shape"
   ]
  },
  {
   "cell_type": "markdown",
   "id": "d06c92f4",
   "metadata": {
    "slideshow": {
     "slide_type": "slide"
    }
   },
   "source": [
    "#### Używanie `head` i `tail`\n",
    "\n",
    "- Funkcja `head(x)` wyświetla górne `x` wierszy `DataFrame`. \n",
    "- Podobnie, `tail(x)` wyświetla ostatnie `x` wierszy."
   ]
  },
  {
   "cell_type": "code",
   "execution_count": 7,
   "id": "1f556e13",
   "metadata": {
    "slideshow": {
     "slide_type": "-"
    }
   },
   "outputs": [
    {
     "data": {
      "text/html": [
       "<div>\n",
       "<style scoped>\n",
       "    .dataframe tbody tr th:only-of-type {\n",
       "        vertical-align: middle;\n",
       "    }\n",
       "\n",
       "    .dataframe tbody tr th {\n",
       "        vertical-align: top;\n",
       "    }\n",
       "\n",
       "    .dataframe thead th {\n",
       "        text-align: right;\n",
       "    }\n",
       "</style>\n",
       "<table border=\"1\" class=\"dataframe\">\n",
       "  <thead>\n",
       "    <tr style=\"text-align: right;\">\n",
       "      <th></th>\n",
       "      <th>#</th>\n",
       "      <th>Name</th>\n",
       "      <th>Type 1</th>\n",
       "      <th>Type 2</th>\n",
       "      <th>Total</th>\n",
       "      <th>HP</th>\n",
       "      <th>Attack</th>\n",
       "      <th>Defense</th>\n",
       "      <th>Sp. Atk</th>\n",
       "      <th>Sp. Def</th>\n",
       "      <th>Speed</th>\n",
       "      <th>Generation</th>\n",
       "      <th>Legendary</th>\n",
       "    </tr>\n",
       "  </thead>\n",
       "  <tbody>\n",
       "    <tr>\n",
       "      <th>0</th>\n",
       "      <td>1</td>\n",
       "      <td>Bulbasaur</td>\n",
       "      <td>Grass</td>\n",
       "      <td>Poison</td>\n",
       "      <td>318</td>\n",
       "      <td>45</td>\n",
       "      <td>49</td>\n",
       "      <td>49</td>\n",
       "      <td>65</td>\n",
       "      <td>65</td>\n",
       "      <td>45</td>\n",
       "      <td>1</td>\n",
       "      <td>False</td>\n",
       "    </tr>\n",
       "    <tr>\n",
       "      <th>1</th>\n",
       "      <td>2</td>\n",
       "      <td>Ivysaur</td>\n",
       "      <td>Grass</td>\n",
       "      <td>Poison</td>\n",
       "      <td>405</td>\n",
       "      <td>60</td>\n",
       "      <td>62</td>\n",
       "      <td>63</td>\n",
       "      <td>80</td>\n",
       "      <td>80</td>\n",
       "      <td>60</td>\n",
       "      <td>1</td>\n",
       "      <td>False</td>\n",
       "    </tr>\n",
       "  </tbody>\n",
       "</table>\n",
       "</div>"
      ],
      "text/plain": [
       "   #       Name Type 1  Type 2  Total  HP  Attack  Defense  Sp. Atk  Sp. Def  \\\n",
       "0  1  Bulbasaur  Grass  Poison    318  45      49       49       65       65   \n",
       "1  2    Ivysaur  Grass  Poison    405  60      62       63       80       80   \n",
       "\n",
       "   Speed  Generation  Legendary  \n",
       "0     45           1      False  \n",
       "1     60           1      False  "
      ]
     },
     "execution_count": 7,
     "metadata": {},
     "output_type": "execute_result"
    }
   ],
   "source": [
    "df_pokemon.head(2)"
   ]
  },
  {
   "cell_type": "code",
   "execution_count": 8,
   "id": "cec2c9d7",
   "metadata": {
    "slideshow": {
     "slide_type": "-"
    }
   },
   "outputs": [
    {
     "data": {
      "text/html": [
       "<div>\n",
       "<style scoped>\n",
       "    .dataframe tbody tr th:only-of-type {\n",
       "        vertical-align: middle;\n",
       "    }\n",
       "\n",
       "    .dataframe tbody tr th {\n",
       "        vertical-align: top;\n",
       "    }\n",
       "\n",
       "    .dataframe thead th {\n",
       "        text-align: right;\n",
       "    }\n",
       "</style>\n",
       "<table border=\"1\" class=\"dataframe\">\n",
       "  <thead>\n",
       "    <tr style=\"text-align: right;\">\n",
       "      <th></th>\n",
       "      <th>#</th>\n",
       "      <th>Name</th>\n",
       "      <th>Type 1</th>\n",
       "      <th>Type 2</th>\n",
       "      <th>Total</th>\n",
       "      <th>HP</th>\n",
       "      <th>Attack</th>\n",
       "      <th>Defense</th>\n",
       "      <th>Sp. Atk</th>\n",
       "      <th>Sp. Def</th>\n",
       "      <th>Speed</th>\n",
       "      <th>Generation</th>\n",
       "      <th>Legendary</th>\n",
       "    </tr>\n",
       "  </thead>\n",
       "  <tbody>\n",
       "    <tr>\n",
       "      <th>798</th>\n",
       "      <td>720</td>\n",
       "      <td>HoopaHoopa Unbound</td>\n",
       "      <td>Psychic</td>\n",
       "      <td>Dark</td>\n",
       "      <td>680</td>\n",
       "      <td>80</td>\n",
       "      <td>160</td>\n",
       "      <td>60</td>\n",
       "      <td>170</td>\n",
       "      <td>130</td>\n",
       "      <td>80</td>\n",
       "      <td>6</td>\n",
       "      <td>True</td>\n",
       "    </tr>\n",
       "    <tr>\n",
       "      <th>799</th>\n",
       "      <td>721</td>\n",
       "      <td>Volcanion</td>\n",
       "      <td>Fire</td>\n",
       "      <td>Water</td>\n",
       "      <td>600</td>\n",
       "      <td>80</td>\n",
       "      <td>110</td>\n",
       "      <td>120</td>\n",
       "      <td>130</td>\n",
       "      <td>90</td>\n",
       "      <td>70</td>\n",
       "      <td>6</td>\n",
       "      <td>True</td>\n",
       "    </tr>\n",
       "  </tbody>\n",
       "</table>\n",
       "</div>"
      ],
      "text/plain": [
       "       #                Name   Type 1 Type 2  Total  HP  Attack  Defense  \\\n",
       "798  720  HoopaHoopa Unbound  Psychic   Dark    680  80     160       60   \n",
       "799  721           Volcanion     Fire  Water    600  80     110      120   \n",
       "\n",
       "     Sp. Atk  Sp. Def  Speed  Generation  Legendary  \n",
       "798      170      130     80           6       True  \n",
       "799      130       90     70           6       True  "
      ]
     },
     "execution_count": 8,
     "metadata": {},
     "output_type": "execute_result"
    }
   ],
   "source": [
    "df_pokemon.tail(2)"
   ]
  },
  {
   "cell_type": "markdown",
   "id": "5615c178",
   "metadata": {
    "slideshow": {
     "slide_type": "slide"
    }
   },
   "source": [
    "#### Dostęp do kolumn\n",
    "\n",
    "- Dostęp do **kolumny** można uzyskać za pomocą `dataframe_name['column_name']`."
   ]
  },
  {
   "cell_type": "code",
   "execution_count": 9,
   "id": "14aa91c2",
   "metadata": {
    "scrolled": true
   },
   "outputs": [
    {
     "data": {
      "text/plain": [
       "0    45\n",
       "1    60\n",
       "2    80\n",
       "3    80\n",
       "4    65\n",
       "Name: Speed, dtype: int64"
      ]
     },
     "execution_count": 9,
     "metadata": {},
     "output_type": "execute_result"
    }
   ],
   "source": [
    "### Co przypomina ci ta składnia nawiasów ([„nazwa_kolumny”])?\n",
    "df_pokemon['Speed'].head(5)"
   ]
  },
  {
   "cell_type": "markdown",
   "id": "dfd64962",
   "metadata": {
    "slideshow": {
     "slide_type": "slide"
    }
   },
   "source": [
    "## Przydatne *operacje* z `pandas`\n",
    "\n",
    "`DataFrame` umożliwia wszelkiego rodzaju użyteczne **operacje**, włączając w to:\n",
    "\n",
    "- Sortowanie `DataFrame` według określonej kolumny.\n",
    "- Obliczanie **statystyk opisowych** (np. `średnia`, `mediana` itp.).\n",
    "- **Filtrowanie** ramki danych.  \n",
    "- Agregacja między poziomami zmiennej przy użyciu `groupby`. "
   ]
  },
  {
   "cell_type": "markdown",
   "id": "a4f7d683",
   "metadata": {
    "slideshow": {
     "slide_type": "slide"
    }
   },
   "source": [
    "### `sort_values`"
   ]
  },
  {
   "cell_type": "code",
   "execution_count": 10,
   "id": "b7267594",
   "metadata": {
    "slideshow": {
     "slide_type": "-"
    }
   },
   "outputs": [
    {
     "data": {
      "text/html": [
       "<div>\n",
       "<style scoped>\n",
       "    .dataframe tbody tr th:only-of-type {\n",
       "        vertical-align: middle;\n",
       "    }\n",
       "\n",
       "    .dataframe tbody tr th {\n",
       "        vertical-align: top;\n",
       "    }\n",
       "\n",
       "    .dataframe thead th {\n",
       "        text-align: right;\n",
       "    }\n",
       "</style>\n",
       "<table border=\"1\" class=\"dataframe\">\n",
       "  <thead>\n",
       "    <tr style=\"text-align: right;\">\n",
       "      <th></th>\n",
       "      <th>#</th>\n",
       "      <th>Name</th>\n",
       "      <th>Type 1</th>\n",
       "      <th>Type 2</th>\n",
       "      <th>Total</th>\n",
       "      <th>HP</th>\n",
       "      <th>Attack</th>\n",
       "      <th>Defense</th>\n",
       "      <th>Sp. Atk</th>\n",
       "      <th>Sp. Def</th>\n",
       "      <th>Speed</th>\n",
       "      <th>Generation</th>\n",
       "      <th>Legendary</th>\n",
       "    </tr>\n",
       "  </thead>\n",
       "  <tbody>\n",
       "    <tr>\n",
       "      <th>316</th>\n",
       "      <td>292</td>\n",
       "      <td>Shedinja</td>\n",
       "      <td>Bug</td>\n",
       "      <td>Ghost</td>\n",
       "      <td>236</td>\n",
       "      <td>1</td>\n",
       "      <td>90</td>\n",
       "      <td>45</td>\n",
       "      <td>30</td>\n",
       "      <td>30</td>\n",
       "      <td>40</td>\n",
       "      <td>3</td>\n",
       "      <td>False</td>\n",
       "    </tr>\n",
       "    <tr>\n",
       "      <th>55</th>\n",
       "      <td>50</td>\n",
       "      <td>Diglett</td>\n",
       "      <td>Ground</td>\n",
       "      <td>NaN</td>\n",
       "      <td>265</td>\n",
       "      <td>10</td>\n",
       "      <td>55</td>\n",
       "      <td>25</td>\n",
       "      <td>35</td>\n",
       "      <td>45</td>\n",
       "      <td>95</td>\n",
       "      <td>1</td>\n",
       "      <td>False</td>\n",
       "    </tr>\n",
       "  </tbody>\n",
       "</table>\n",
       "</div>"
      ],
      "text/plain": [
       "       #      Name  Type 1 Type 2  Total  HP  Attack  Defense  Sp. Atk  \\\n",
       "316  292  Shedinja     Bug  Ghost    236   1      90       45       30   \n",
       "55    50   Diglett  Ground    NaN    265  10      55       25       35   \n",
       "\n",
       "     Sp. Def  Speed  Generation  Legendary  \n",
       "316       30     40           3      False  \n",
       "55        45     95           1      False  "
      ]
     },
     "execution_count": 10,
     "metadata": {},
     "output_type": "execute_result"
    }
   ],
   "source": [
    "### Domyślnie, będzie sortować od najniższego do najwyższego\n",
    "df_pokemon.sort_values(\"HP\").head(2)"
   ]
  },
  {
   "cell_type": "code",
   "execution_count": 11,
   "id": "34c1d7e0",
   "metadata": {
    "scrolled": true,
    "slideshow": {
     "slide_type": "-"
    }
   },
   "outputs": [
    {
     "data": {
      "text/html": [
       "<div>\n",
       "<style scoped>\n",
       "    .dataframe tbody tr th:only-of-type {\n",
       "        vertical-align: middle;\n",
       "    }\n",
       "\n",
       "    .dataframe tbody tr th {\n",
       "        vertical-align: top;\n",
       "    }\n",
       "\n",
       "    .dataframe thead th {\n",
       "        text-align: right;\n",
       "    }\n",
       "</style>\n",
       "<table border=\"1\" class=\"dataframe\">\n",
       "  <thead>\n",
       "    <tr style=\"text-align: right;\">\n",
       "      <th></th>\n",
       "      <th>#</th>\n",
       "      <th>Name</th>\n",
       "      <th>Type 1</th>\n",
       "      <th>Type 2</th>\n",
       "      <th>Total</th>\n",
       "      <th>HP</th>\n",
       "      <th>Attack</th>\n",
       "      <th>Defense</th>\n",
       "      <th>Sp. Atk</th>\n",
       "      <th>Sp. Def</th>\n",
       "      <th>Speed</th>\n",
       "      <th>Generation</th>\n",
       "      <th>Legendary</th>\n",
       "    </tr>\n",
       "  </thead>\n",
       "  <tbody>\n",
       "    <tr>\n",
       "      <th>261</th>\n",
       "      <td>242</td>\n",
       "      <td>Blissey</td>\n",
       "      <td>Normal</td>\n",
       "      <td>NaN</td>\n",
       "      <td>540</td>\n",
       "      <td>255</td>\n",
       "      <td>10</td>\n",
       "      <td>10</td>\n",
       "      <td>75</td>\n",
       "      <td>135</td>\n",
       "      <td>55</td>\n",
       "      <td>2</td>\n",
       "      <td>False</td>\n",
       "    </tr>\n",
       "    <tr>\n",
       "      <th>121</th>\n",
       "      <td>113</td>\n",
       "      <td>Chansey</td>\n",
       "      <td>Normal</td>\n",
       "      <td>NaN</td>\n",
       "      <td>450</td>\n",
       "      <td>250</td>\n",
       "      <td>5</td>\n",
       "      <td>5</td>\n",
       "      <td>35</td>\n",
       "      <td>105</td>\n",
       "      <td>50</td>\n",
       "      <td>1</td>\n",
       "      <td>False</td>\n",
       "    </tr>\n",
       "  </tbody>\n",
       "</table>\n",
       "</div>"
      ],
      "text/plain": [
       "       #     Name  Type 1 Type 2  Total   HP  Attack  Defense  Sp. Atk  \\\n",
       "261  242  Blissey  Normal    NaN    540  255      10       10       75   \n",
       "121  113  Chansey  Normal    NaN    450  250       5        5       35   \n",
       "\n",
       "     Sp. Def  Speed  Generation  Legendary  \n",
       "261      135     55           2      False  \n",
       "121      105     50           1      False  "
      ]
     },
     "execution_count": 11,
     "metadata": {},
     "output_type": "execute_result"
    }
   ],
   "source": [
    "### Pokaż najwyższe HP\n",
    "df_pokemon.sort_values(\"HP\", ascending = False).head(2)"
   ]
  },
  {
   "cell_type": "markdown",
   "id": "713be37f",
   "metadata": {
    "slideshow": {
     "slide_type": "slide"
    }
   },
   "source": [
    "#### Twoja kolej\n",
    "\n",
    "Jaka jest `Szybkość` Pokemona z najwyższym `Atakiem`?"
   ]
  },
  {
   "cell_type": "code",
   "execution_count": 27,
   "id": "6d7c74bc",
   "metadata": {},
   "outputs": [
    {
     "data": {
      "text/html": [
       "<div>\n",
       "<style scoped>\n",
       "    .dataframe tbody tr th:only-of-type {\n",
       "        vertical-align: middle;\n",
       "    }\n",
       "\n",
       "    .dataframe tbody tr th {\n",
       "        vertical-align: top;\n",
       "    }\n",
       "\n",
       "    .dataframe thead th {\n",
       "        text-align: right;\n",
       "    }\n",
       "</style>\n",
       "<table border=\"1\" class=\"dataframe\">\n",
       "  <thead>\n",
       "    <tr style=\"text-align: right;\">\n",
       "      <th></th>\n",
       "      <th>#</th>\n",
       "      <th>Name</th>\n",
       "      <th>Type 1</th>\n",
       "      <th>Type 2</th>\n",
       "      <th>Total</th>\n",
       "      <th>HP</th>\n",
       "      <th>Attack</th>\n",
       "      <th>Defense</th>\n",
       "      <th>Sp. Atk</th>\n",
       "      <th>Sp. Def</th>\n",
       "      <th>Speed</th>\n",
       "      <th>Generation</th>\n",
       "      <th>Legendary</th>\n",
       "    </tr>\n",
       "  </thead>\n",
       "  <tbody>\n",
       "    <tr>\n",
       "      <th>163</th>\n",
       "      <td>150</td>\n",
       "      <td>MewtwoMega Mewtwo X</td>\n",
       "      <td>Psychic</td>\n",
       "      <td>Fighting</td>\n",
       "      <td>780</td>\n",
       "      <td>106</td>\n",
       "      <td>190</td>\n",
       "      <td>100</td>\n",
       "      <td>154</td>\n",
       "      <td>100</td>\n",
       "      <td>130</td>\n",
       "      <td>1</td>\n",
       "      <td>True</td>\n",
       "    </tr>\n",
       "    <tr>\n",
       "      <th>232</th>\n",
       "      <td>214</td>\n",
       "      <td>HeracrossMega Heracross</td>\n",
       "      <td>Bug</td>\n",
       "      <td>Fighting</td>\n",
       "      <td>600</td>\n",
       "      <td>80</td>\n",
       "      <td>185</td>\n",
       "      <td>115</td>\n",
       "      <td>40</td>\n",
       "      <td>105</td>\n",
       "      <td>75</td>\n",
       "      <td>2</td>\n",
       "      <td>False</td>\n",
       "    </tr>\n",
       "  </tbody>\n",
       "</table>\n",
       "</div>"
      ],
      "text/plain": [
       "       #                     Name   Type 1    Type 2  Total   HP  Attack  \\\n",
       "163  150      MewtwoMega Mewtwo X  Psychic  Fighting    780  106     190   \n",
       "232  214  HeracrossMega Heracross      Bug  Fighting    600   80     185   \n",
       "\n",
       "     Defense  Sp. Atk  Sp. Def  Speed  Generation  Legendary  \n",
       "163      100      154      100    130           1       True  \n",
       "232      115       40      105     75           2      False  "
      ]
     },
     "execution_count": 27,
     "metadata": {},
     "output_type": "execute_result"
    }
   ],
   "source": [
    "df_pokemon.sort_values(\"Attack\", ascending = False).head(2)"
   ]
  },
  {
   "cell_type": "code",
   "execution_count": null,
   "id": "1fd31043",
   "metadata": {
    "scrolled": true,
    "slideshow": {
     "slide_type": "-"
    }
   },
   "outputs": [],
   "source": [
    "# Odkomentuj następującą linię, aby zobaczyć rozwiązanie:\n",
    "# %load ./solutions/solution4.py"
   ]
  },
  {
   "cell_type": "markdown",
   "id": "aaac39d7",
   "metadata": {
    "slideshow": {
     "slide_type": "slide"
    }
   },
   "source": [
    "### Statystyki opisowe\n",
    "\n",
    "Kolumny `DataFrame` mogą być również **podsumowane**:\n",
    "\n",
    "- `średnia`: wartość średnia (dla zmiennych numerycznych) \n",
    "- `mediana`: „środkowa” wartość (dla zmiennych numerycznych)\n",
    "- `modalna`: najczęściej występująca wartość w zbiorze"
   ]
  },
  {
   "cell_type": "code",
   "execution_count": 30,
   "id": "e3e368ac",
   "metadata": {
    "scrolled": true,
    "slideshow": {
     "slide_type": "-"
    }
   },
   "outputs": [
    {
     "data": {
      "text/plain": [
       "np.float64(79.00125)"
      ]
     },
     "execution_count": 30,
     "metadata": {},
     "output_type": "execute_result"
    }
   ],
   "source": [
    "df_pokemon['Attack'].mean()"
   ]
  },
  {
   "cell_type": "code",
   "execution_count": 29,
   "id": "620225b8",
   "metadata": {
    "scrolled": true,
    "slideshow": {
     "slide_type": "-"
    }
   },
   "outputs": [
    {
     "data": {
      "text/plain": [
       "np.float64(75.0)"
      ]
     },
     "execution_count": 29,
     "metadata": {},
     "output_type": "execute_result"
    }
   ],
   "source": [
    "df_pokemon['Attack'].median()"
   ]
  },
  {
   "cell_type": "code",
   "execution_count": 28,
   "id": "9134eb2f",
   "metadata": {
    "scrolled": true,
    "slideshow": {
     "slide_type": "-"
    }
   },
   "outputs": [
    {
     "data": {
      "text/plain": [
       "0    100\n",
       "Name: Attack, dtype: int64"
      ]
     },
     "execution_count": 28,
     "metadata": {},
     "output_type": "execute_result"
    }
   ],
   "source": [
    "df_pokemon['Attack'].mode()"
   ]
  },
  {
   "cell_type": "markdown",
   "id": "b131dd7d",
   "metadata": {
    "slideshow": {
     "slide_type": "slide"
    }
   },
   "source": [
    "### Filtrowanie `DataFrame`\n",
    "\n",
    "- Często chcemy **filtrować** `DataFrame`, aby zobaczyć tylko te obserwacje, które spełniają określone **warunki**.\n",
    "- Ostatecznie jest to podobne do używania **deklaracji warunkowej** - tylko z inną składnią."
   ]
  },
  {
   "cell_type": "markdown",
   "id": "96392e85",
   "metadata": {
    "slideshow": {
     "slide_type": "slide"
    }
   },
   "source": [
    "#### Przykład 1: filtrowanie po zmiennej kategorialnej\n",
    "\n",
    "- Kolumna `legendary` jest zmienną *kategoryczną*, co oznacza, że istnieje kilka dyskretnych kategorii.  "
   ]
  },
  {
   "cell_type": "code",
   "execution_count": 17,
   "id": "4a5b124a",
   "metadata": {
    "slideshow": {
     "slide_type": "-"
    }
   },
   "outputs": [
    {
     "data": {
      "text/html": [
       "<div>\n",
       "<style scoped>\n",
       "    .dataframe tbody tr th:only-of-type {\n",
       "        vertical-align: middle;\n",
       "    }\n",
       "\n",
       "    .dataframe tbody tr th {\n",
       "        vertical-align: top;\n",
       "    }\n",
       "\n",
       "    .dataframe thead th {\n",
       "        text-align: right;\n",
       "    }\n",
       "</style>\n",
       "<table border=\"1\" class=\"dataframe\">\n",
       "  <thead>\n",
       "    <tr style=\"text-align: right;\">\n",
       "      <th></th>\n",
       "      <th>#</th>\n",
       "      <th>Name</th>\n",
       "      <th>Type 1</th>\n",
       "      <th>Type 2</th>\n",
       "      <th>Total</th>\n",
       "      <th>HP</th>\n",
       "      <th>Attack</th>\n",
       "      <th>Defense</th>\n",
       "      <th>Sp. Atk</th>\n",
       "      <th>Sp. Def</th>\n",
       "      <th>Speed</th>\n",
       "      <th>Generation</th>\n",
       "      <th>Legendary</th>\n",
       "    </tr>\n",
       "  </thead>\n",
       "  <tbody>\n",
       "    <tr>\n",
       "      <th>156</th>\n",
       "      <td>144</td>\n",
       "      <td>Articuno</td>\n",
       "      <td>Ice</td>\n",
       "      <td>Flying</td>\n",
       "      <td>580</td>\n",
       "      <td>90</td>\n",
       "      <td>85</td>\n",
       "      <td>100</td>\n",
       "      <td>95</td>\n",
       "      <td>125</td>\n",
       "      <td>85</td>\n",
       "      <td>1</td>\n",
       "      <td>True</td>\n",
       "    </tr>\n",
       "    <tr>\n",
       "      <th>157</th>\n",
       "      <td>145</td>\n",
       "      <td>Zapdos</td>\n",
       "      <td>Electric</td>\n",
       "      <td>Flying</td>\n",
       "      <td>580</td>\n",
       "      <td>90</td>\n",
       "      <td>90</td>\n",
       "      <td>85</td>\n",
       "      <td>125</td>\n",
       "      <td>90</td>\n",
       "      <td>100</td>\n",
       "      <td>1</td>\n",
       "      <td>True</td>\n",
       "    </tr>\n",
       "    <tr>\n",
       "      <th>158</th>\n",
       "      <td>146</td>\n",
       "      <td>Moltres</td>\n",
       "      <td>Fire</td>\n",
       "      <td>Flying</td>\n",
       "      <td>580</td>\n",
       "      <td>90</td>\n",
       "      <td>100</td>\n",
       "      <td>90</td>\n",
       "      <td>125</td>\n",
       "      <td>85</td>\n",
       "      <td>90</td>\n",
       "      <td>1</td>\n",
       "      <td>True</td>\n",
       "    </tr>\n",
       "    <tr>\n",
       "      <th>162</th>\n",
       "      <td>150</td>\n",
       "      <td>Mewtwo</td>\n",
       "      <td>Psychic</td>\n",
       "      <td>NaN</td>\n",
       "      <td>680</td>\n",
       "      <td>106</td>\n",
       "      <td>110</td>\n",
       "      <td>90</td>\n",
       "      <td>154</td>\n",
       "      <td>90</td>\n",
       "      <td>130</td>\n",
       "      <td>1</td>\n",
       "      <td>True</td>\n",
       "    </tr>\n",
       "    <tr>\n",
       "      <th>163</th>\n",
       "      <td>150</td>\n",
       "      <td>MewtwoMega Mewtwo X</td>\n",
       "      <td>Psychic</td>\n",
       "      <td>Fighting</td>\n",
       "      <td>780</td>\n",
       "      <td>106</td>\n",
       "      <td>190</td>\n",
       "      <td>100</td>\n",
       "      <td>154</td>\n",
       "      <td>100</td>\n",
       "      <td>130</td>\n",
       "      <td>1</td>\n",
       "      <td>True</td>\n",
       "    </tr>\n",
       "  </tbody>\n",
       "</table>\n",
       "</div>"
      ],
      "text/plain": [
       "       #                 Name    Type 1    Type 2  Total   HP  Attack  \\\n",
       "156  144             Articuno       Ice    Flying    580   90      85   \n",
       "157  145               Zapdos  Electric    Flying    580   90      90   \n",
       "158  146              Moltres      Fire    Flying    580   90     100   \n",
       "162  150               Mewtwo   Psychic       NaN    680  106     110   \n",
       "163  150  MewtwoMega Mewtwo X   Psychic  Fighting    780  106     190   \n",
       "\n",
       "     Defense  Sp. Atk  Sp. Def  Speed  Generation  Legendary  \n",
       "156      100       95      125     85           1       True  \n",
       "157       85      125       90    100           1       True  \n",
       "158       90      125       85     90           1       True  \n",
       "162       90      154       90    130           1       True  \n",
       "163      100      154      100    130           1       True  "
      ]
     },
     "execution_count": 17,
     "metadata": {},
     "output_type": "execute_result"
    }
   ],
   "source": [
    "## Ile jest legendarnych pokemonów?\n",
    "df_pokemon[df_pokemon['Legendary']==True].head(5)"
   ]
  },
  {
   "cell_type": "markdown",
   "id": "8d3caf00",
   "metadata": {
    "slideshow": {
     "slide_type": "slide"
    }
   },
   "source": [
    "#### Przykład 2: filtrowanie na zmiennej ciągłej\n",
    "\n",
    "- Kolumna `HP` jest zmienną *ciągłą*.\n",
    "- Pokażmy tylko wiersze dla Pokemonów z `HP > 150`."
   ]
  },
  {
   "cell_type": "code",
   "execution_count": 31,
   "id": "87a1eb47",
   "metadata": {
    "slideshow": {
     "slide_type": "-"
    }
   },
   "outputs": [
    {
     "data": {
      "text/html": [
       "<div>\n",
       "<style scoped>\n",
       "    .dataframe tbody tr th:only-of-type {\n",
       "        vertical-align: middle;\n",
       "    }\n",
       "\n",
       "    .dataframe tbody tr th {\n",
       "        vertical-align: top;\n",
       "    }\n",
       "\n",
       "    .dataframe thead th {\n",
       "        text-align: right;\n",
       "    }\n",
       "</style>\n",
       "<table border=\"1\" class=\"dataframe\">\n",
       "  <thead>\n",
       "    <tr style=\"text-align: right;\">\n",
       "      <th></th>\n",
       "      <th>#</th>\n",
       "      <th>Name</th>\n",
       "      <th>Type 1</th>\n",
       "      <th>Type 2</th>\n",
       "      <th>Total</th>\n",
       "      <th>HP</th>\n",
       "      <th>Attack</th>\n",
       "      <th>Defense</th>\n",
       "      <th>Sp. Atk</th>\n",
       "      <th>Sp. Def</th>\n",
       "      <th>Speed</th>\n",
       "      <th>Generation</th>\n",
       "      <th>Legendary</th>\n",
       "    </tr>\n",
       "  </thead>\n",
       "  <tbody>\n",
       "    <tr>\n",
       "      <th>121</th>\n",
       "      <td>113</td>\n",
       "      <td>Chansey</td>\n",
       "      <td>Normal</td>\n",
       "      <td>NaN</td>\n",
       "      <td>450</td>\n",
       "      <td>250</td>\n",
       "      <td>5</td>\n",
       "      <td>5</td>\n",
       "      <td>35</td>\n",
       "      <td>105</td>\n",
       "      <td>50</td>\n",
       "      <td>1</td>\n",
       "      <td>False</td>\n",
       "    </tr>\n",
       "    <tr>\n",
       "      <th>155</th>\n",
       "      <td>143</td>\n",
       "      <td>Snorlax</td>\n",
       "      <td>Normal</td>\n",
       "      <td>NaN</td>\n",
       "      <td>540</td>\n",
       "      <td>160</td>\n",
       "      <td>110</td>\n",
       "      <td>65</td>\n",
       "      <td>65</td>\n",
       "      <td>110</td>\n",
       "      <td>30</td>\n",
       "      <td>1</td>\n",
       "      <td>False</td>\n",
       "    </tr>\n",
       "    <tr>\n",
       "      <th>217</th>\n",
       "      <td>202</td>\n",
       "      <td>Wobbuffet</td>\n",
       "      <td>Psychic</td>\n",
       "      <td>NaN</td>\n",
       "      <td>405</td>\n",
       "      <td>190</td>\n",
       "      <td>33</td>\n",
       "      <td>58</td>\n",
       "      <td>33</td>\n",
       "      <td>58</td>\n",
       "      <td>33</td>\n",
       "      <td>2</td>\n",
       "      <td>False</td>\n",
       "    </tr>\n",
       "  </tbody>\n",
       "</table>\n",
       "</div>"
      ],
      "text/plain": [
       "       #       Name   Type 1 Type 2  Total   HP  Attack  Defense  Sp. Atk  \\\n",
       "121  113    Chansey   Normal    NaN    450  250       5        5       35   \n",
       "155  143    Snorlax   Normal    NaN    540  160     110       65       65   \n",
       "217  202  Wobbuffet  Psychic    NaN    405  190      33       58       33   \n",
       "\n",
       "     Sp. Def  Speed  Generation  Legendary  \n",
       "121      105     50           1      False  \n",
       "155      110     30           1      False  \n",
       "217       58     33           2      False  "
      ]
     },
     "execution_count": 31,
     "metadata": {},
     "output_type": "execute_result"
    }
   ],
   "source": [
    "df_pokemon[df_pokemon['HP'] > 150].head(3)"
   ]
  },
  {
   "cell_type": "markdown",
   "id": "fafb7e45",
   "metadata": {
    "slideshow": {
     "slide_type": "slide"
    }
   },
   "source": [
    "### Używanie `groupby`\n",
    "\n",
    "> Funkcja [`groupby`](https://pandas.pydata.org/docs/reference/api/pandas.DataFrame.groupby.html) pozwala na **podzielenie danych** (np. według różnych kategorii), a następnie **zastosowanie** pewnej funkcji do każdego podziału tych danych (np. `średnia`).\n",
    "\n",
    "Składnia jest następująca:\n",
    "\n",
    "```python\n",
    "df_name.groupby(„column_to_group_by”).mean() ## lub mediana, itd.\n",
    "```"
   ]
  },
  {
   "cell_type": "markdown",
   "id": "8f4a9dc4",
   "metadata": {
    "slideshow": {
     "slide_type": "slide"
    }
   },
   "source": [
    "#### Przykład: mean `Attack` by `Legendary`\n",
    "\n",
    "Tutaj składnia `[[...]]` po prostu ogranicza kolumny w `DataFrame` do tych, na których nam bezpośrednio zależy."
   ]
  },
  {
   "cell_type": "code",
   "execution_count": 32,
   "id": "242c9c7c",
   "metadata": {
    "slideshow": {
     "slide_type": "-"
    }
   },
   "outputs": [
    {
     "data": {
      "text/html": [
       "<div>\n",
       "<style scoped>\n",
       "    .dataframe tbody tr th:only-of-type {\n",
       "        vertical-align: middle;\n",
       "    }\n",
       "\n",
       "    .dataframe tbody tr th {\n",
       "        vertical-align: top;\n",
       "    }\n",
       "\n",
       "    .dataframe thead th {\n",
       "        text-align: right;\n",
       "    }\n",
       "</style>\n",
       "<table border=\"1\" class=\"dataframe\">\n",
       "  <thead>\n",
       "    <tr style=\"text-align: right;\">\n",
       "      <th></th>\n",
       "      <th>Attack</th>\n",
       "    </tr>\n",
       "    <tr>\n",
       "      <th>Legendary</th>\n",
       "      <th></th>\n",
       "    </tr>\n",
       "  </thead>\n",
       "  <tbody>\n",
       "    <tr>\n",
       "      <th>False</th>\n",
       "      <td>75.669388</td>\n",
       "    </tr>\n",
       "    <tr>\n",
       "      <th>True</th>\n",
       "      <td>116.676923</td>\n",
       "    </tr>\n",
       "  </tbody>\n",
       "</table>\n",
       "</div>"
      ],
      "text/plain": [
       "               Attack\n",
       "Legendary            \n",
       "False       75.669388\n",
       "True       116.676923"
      ]
     },
     "execution_count": 32,
     "metadata": {},
     "output_type": "execute_result"
    }
   ],
   "source": [
    "df_pokemon[['Legendary', 'Attack']].groupby(\"Legendary\").mean()"
   ]
  },
  {
   "cell_type": "markdown",
   "id": "fc4c47c0",
   "metadata": {
    "slideshow": {
     "slide_type": "slide"
    }
   },
   "source": [
    "#### Twoja kolej\n",
    "\n",
    "Jak obliczyć `medianę` `Obrony` według statusu `Legendarnego`?"
   ]
  },
  {
   "cell_type": "code",
   "execution_count": 35,
   "id": "a29bcd71",
   "metadata": {},
   "outputs": [
    {
     "data": {
      "text/html": [
       "<div>\n",
       "<style scoped>\n",
       "    .dataframe tbody tr th:only-of-type {\n",
       "        vertical-align: middle;\n",
       "    }\n",
       "\n",
       "    .dataframe tbody tr th {\n",
       "        vertical-align: top;\n",
       "    }\n",
       "\n",
       "    .dataframe thead th {\n",
       "        text-align: right;\n",
       "    }\n",
       "</style>\n",
       "<table border=\"1\" class=\"dataframe\">\n",
       "  <thead>\n",
       "    <tr style=\"text-align: right;\">\n",
       "      <th></th>\n",
       "      <th>Defense</th>\n",
       "    </tr>\n",
       "    <tr>\n",
       "      <th>Attack</th>\n",
       "      <th></th>\n",
       "    </tr>\n",
       "  </thead>\n",
       "  <tbody>\n",
       "    <tr>\n",
       "      <th>5</th>\n",
       "      <td>5.0</td>\n",
       "    </tr>\n",
       "    <tr>\n",
       "      <th>10</th>\n",
       "      <td>55.0</td>\n",
       "    </tr>\n",
       "    <tr>\n",
       "      <th>15</th>\n",
       "      <td>20.0</td>\n",
       "    </tr>\n",
       "    <tr>\n",
       "      <th>20</th>\n",
       "      <td>45.0</td>\n",
       "    </tr>\n",
       "    <tr>\n",
       "      <th>22</th>\n",
       "      <td>60.0</td>\n",
       "    </tr>\n",
       "    <tr>\n",
       "      <th>...</th>\n",
       "      <td>...</td>\n",
       "    </tr>\n",
       "    <tr>\n",
       "      <th>165</th>\n",
       "      <td>75.0</td>\n",
       "    </tr>\n",
       "    <tr>\n",
       "      <th>170</th>\n",
       "      <td>107.5</td>\n",
       "    </tr>\n",
       "    <tr>\n",
       "      <th>180</th>\n",
       "      <td>100.0</td>\n",
       "    </tr>\n",
       "    <tr>\n",
       "      <th>185</th>\n",
       "      <td>115.0</td>\n",
       "    </tr>\n",
       "    <tr>\n",
       "      <th>190</th>\n",
       "      <td>100.0</td>\n",
       "    </tr>\n",
       "  </tbody>\n",
       "</table>\n",
       "<p>111 rows × 1 columns</p>\n",
       "</div>"
      ],
      "text/plain": [
       "        Defense\n",
       "Attack         \n",
       "5           5.0\n",
       "10         55.0\n",
       "15         20.0\n",
       "20         45.0\n",
       "22         60.0\n",
       "...         ...\n",
       "165        75.0\n",
       "170       107.5\n",
       "180       100.0\n",
       "185       115.0\n",
       "190       100.0\n",
       "\n",
       "[111 rows x 1 columns]"
      ]
     },
     "execution_count": 35,
     "metadata": {},
     "output_type": "execute_result"
    }
   ],
   "source": [
    "df_pokemon[['Defense', 'Attack']].groupby(\"Attack\").median()"
   ]
  },
  {
   "cell_type": "code",
   "execution_count": 21,
   "id": "21a8458e",
   "metadata": {
    "slideshow": {
     "slide_type": "-"
    }
   },
   "outputs": [],
   "source": [
    "# Odkomentuj następującą linię, aby zobaczyć rozwiązanie:\n",
    "# %load ./solutions/solution5.py"
   ]
  },
  {
   "cell_type": "markdown",
   "id": "6b8c0988",
   "metadata": {
    "slideshow": {
     "slide_type": "slide"
    }
   },
   "source": [
    "#### Twoja kolej:\n",
    "\n",
    "Jak obliczyć `średnią` `HP` dla `Typu 1`?"
   ]
  },
  {
   "cell_type": "code",
   "execution_count": 39,
   "id": "beff3698",
   "metadata": {},
   "outputs": [
    {
     "data": {
      "text/html": [
       "<div>\n",
       "<style scoped>\n",
       "    .dataframe tbody tr th:only-of-type {\n",
       "        vertical-align: middle;\n",
       "    }\n",
       "\n",
       "    .dataframe tbody tr th {\n",
       "        vertical-align: top;\n",
       "    }\n",
       "\n",
       "    .dataframe thead th {\n",
       "        text-align: right;\n",
       "    }\n",
       "</style>\n",
       "<table border=\"1\" class=\"dataframe\">\n",
       "  <thead>\n",
       "    <tr style=\"text-align: right;\">\n",
       "      <th></th>\n",
       "      <th>HP</th>\n",
       "    </tr>\n",
       "    <tr>\n",
       "      <th>Type 1</th>\n",
       "      <th></th>\n",
       "    </tr>\n",
       "  </thead>\n",
       "  <tbody>\n",
       "    <tr>\n",
       "      <th>Bug</th>\n",
       "      <td>56.884058</td>\n",
       "    </tr>\n",
       "    <tr>\n",
       "      <th>Dark</th>\n",
       "      <td>66.806452</td>\n",
       "    </tr>\n",
       "    <tr>\n",
       "      <th>Dragon</th>\n",
       "      <td>83.312500</td>\n",
       "    </tr>\n",
       "    <tr>\n",
       "      <th>Electric</th>\n",
       "      <td>59.795455</td>\n",
       "    </tr>\n",
       "    <tr>\n",
       "      <th>Fairy</th>\n",
       "      <td>74.117647</td>\n",
       "    </tr>\n",
       "    <tr>\n",
       "      <th>Fighting</th>\n",
       "      <td>69.851852</td>\n",
       "    </tr>\n",
       "    <tr>\n",
       "      <th>Fire</th>\n",
       "      <td>69.903846</td>\n",
       "    </tr>\n",
       "    <tr>\n",
       "      <th>Flying</th>\n",
       "      <td>70.750000</td>\n",
       "    </tr>\n",
       "    <tr>\n",
       "      <th>Ghost</th>\n",
       "      <td>64.437500</td>\n",
       "    </tr>\n",
       "    <tr>\n",
       "      <th>Grass</th>\n",
       "      <td>67.271429</td>\n",
       "    </tr>\n",
       "    <tr>\n",
       "      <th>Ground</th>\n",
       "      <td>73.781250</td>\n",
       "    </tr>\n",
       "    <tr>\n",
       "      <th>Ice</th>\n",
       "      <td>72.000000</td>\n",
       "    </tr>\n",
       "    <tr>\n",
       "      <th>Normal</th>\n",
       "      <td>77.275510</td>\n",
       "    </tr>\n",
       "    <tr>\n",
       "      <th>Poison</th>\n",
       "      <td>67.250000</td>\n",
       "    </tr>\n",
       "    <tr>\n",
       "      <th>Psychic</th>\n",
       "      <td>70.631579</td>\n",
       "    </tr>\n",
       "    <tr>\n",
       "      <th>Rock</th>\n",
       "      <td>65.363636</td>\n",
       "    </tr>\n",
       "    <tr>\n",
       "      <th>Steel</th>\n",
       "      <td>65.222222</td>\n",
       "    </tr>\n",
       "    <tr>\n",
       "      <th>Water</th>\n",
       "      <td>72.062500</td>\n",
       "    </tr>\n",
       "  </tbody>\n",
       "</table>\n",
       "</div>"
      ],
      "text/plain": [
       "                 HP\n",
       "Type 1             \n",
       "Bug       56.884058\n",
       "Dark      66.806452\n",
       "Dragon    83.312500\n",
       "Electric  59.795455\n",
       "Fairy     74.117647\n",
       "Fighting  69.851852\n",
       "Fire      69.903846\n",
       "Flying    70.750000\n",
       "Ghost     64.437500\n",
       "Grass     67.271429\n",
       "Ground    73.781250\n",
       "Ice       72.000000\n",
       "Normal    77.275510\n",
       "Poison    67.250000\n",
       "Psychic   70.631579\n",
       "Rock      65.363636\n",
       "Steel     65.222222\n",
       "Water     72.062500"
      ]
     },
     "execution_count": 39,
     "metadata": {},
     "output_type": "execute_result"
    }
   ],
   "source": [
    "df_pokemon[['Type 1','HP']].groupby('Type 1').mean()"
   ]
  },
  {
   "cell_type": "code",
   "execution_count": 23,
   "id": "40cb2d24",
   "metadata": {
    "slideshow": {
     "slide_type": "-"
    }
   },
   "outputs": [],
   "source": [
    "# Odkomentuj następującą linię, aby zobaczyć rozwiązanie:\n",
    "# %load ./solutions/solution6.py"
   ]
  },
  {
   "cell_type": "markdown",
   "id": "1c0cffd2",
   "metadata": {
    "slideshow": {
     "slide_type": "slide"
    }
   },
   "source": [
    "## Podsumowanie\n",
    "\n",
    "To kończy nasz dział dotyczący interakcji z **danymi**.\n",
    "\n",
    "- Wczytywanie plików `.csv` za pomocą `pandas`.\n",
    "- Podsumowywanie i praca z **danymi tabelarycznymi**."
   ]
  }
 ],
 "metadata": {
  "celltoolbar": "Slideshow",
  "kernelspec": {
   "display_name": "Python 3",
   "language": "python",
   "name": "python3"
  },
  "language_info": {
   "codemirror_mode": {
    "name": "ipython",
    "version": 3
   },
   "file_extension": ".py",
   "mimetype": "text/x-python",
   "name": "python",
   "nbconvert_exporter": "python",
   "pygments_lexer": "ipython3",
   "version": "3.13.2"
  }
 },
 "nbformat": 4,
 "nbformat_minor": 5
}
